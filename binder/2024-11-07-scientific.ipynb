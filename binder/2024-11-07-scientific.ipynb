{
 "cells": [
  {
   "cell_type": "code",
   "execution_count": null,
   "metadata": {},
   "outputs": [],
   "source": [
    "%load_ext watermark\n"
   ]
  },
  {
   "cell_type": "code",
   "execution_count": null,
   "metadata": {},
   "outputs": [],
   "source": [
    "from IPython.display import display\n",
    "import pandas as pd\n",
    "import seaborn as sns\n",
    "from teeplot import teeplot as tp\n"
   ]
  },
  {
   "cell_type": "code",
   "execution_count": null,
   "metadata": {},
   "outputs": [],
   "source": [
    "%watermark -diwmuv -iv\n"
   ]
  },
  {
   "cell_type": "code",
   "execution_count": null,
   "metadata": {},
   "outputs": [],
   "source": [
    "teeplot_subdir = \"2024-11-07-scientific\"\n",
    "teeplot_subdir\n"
   ]
  },
  {
   "cell_type": "markdown",
   "metadata": {},
   "source": [
    "## Prep Data\n"
   ]
  },
  {
   "cell_type": "code",
   "execution_count": null,
   "metadata": {},
   "outputs": [],
   "source": [
    "df = pd.read_csv(\"https://osf.io/eg7m9/download\")\n",
    "display(df.describe()), display(df.head()), display(df.tail());\n"
   ]
  },
  {
   "cell_type": "code",
   "execution_count": null,
   "metadata": {},
   "outputs": [],
   "source": [
    "df[\"Q\"] = df[\"question\"].str.slice(9)\n"
   ]
  },
  {
   "cell_type": "code",
   "execution_count": null,
   "metadata": {},
   "outputs": [],
   "source": [
    "df[\"num choices\"] = df[\"choices\"].str.count(r\"\\|\") + 1\n"
   ]
  },
  {
   "cell_type": "code",
   "execution_count": null,
   "metadata": {},
   "outputs": [],
   "source": [
    "df[\"adj score\"] = df[\"score\"] * df[\"num choices\"]\n"
   ]
  },
  {
   "cell_type": "code",
   "execution_count": null,
   "metadata": {},
   "outputs": [],
   "source": [
    "df[\"tree repr\"] = df[\"tree representation\"]\n"
   ]
  },
  {
   "cell_type": "code",
   "execution_count": null,
   "metadata": {},
   "outputs": [],
   "source": [
    "display(df.describe()), display(df.head()), display(df.tail());\n"
   ]
  },
  {
   "cell_type": "markdown",
   "metadata": {},
   "source": [
    "## Example Plot\n"
   ]
  },
  {
   "cell_type": "code",
   "execution_count": null,
   "metadata": {},
   "outputs": [],
   "source": [
    "for model, group in df.groupby(\"model\"):\n",
    "    saveit, teed = tp.tee(\n",
    "        sns.relplot,\n",
    "        data=group,\n",
    "        x=\"num_taxa\",\n",
    "        y=\"score\",\n",
    "        hue=\"tree source\",\n",
    "        col=\"Q\",\n",
    "        row=\"tree repr\",\n",
    "        height=2,\n",
    "        facet_kws=dict(\n",
    "            margin_titles=True,\n",
    "        ),\n",
    "        kind=\"line\",\n",
    "        palette=\"muted\",\n",
    "        teeplot_callback=True,\n",
    "        teeplot_outattrs=dict(\n",
    "            model=model,\n",
    "        ),\n",
    "        teeplot_subdir=teeplot_subdir,\n",
    "    )\n",
    "\n",
    "    teed.set(ylim=(0, 1.0))\n",
    "    teed.refline(y=0.5, linestyle=\"--\", color=\"black\")\n",
    "    teed.set_titles(col_template=\"{col_name}\")\n",
    "\n",
    "    saveit()\n"
   ]
  },
  {
   "cell_type": "code",
   "execution_count": null,
   "metadata": {},
   "outputs": [],
   "source": [
    "for model, group in df.groupby(\"model\"):\n",
    "    saveit, teed = tp.tee(\n",
    "        sns.relplot,\n",
    "        data=df,\n",
    "        x=\"num_taxa\",\n",
    "        y=\"adj score\",\n",
    "        hue=\"tree source\",\n",
    "        col=\"Q\",\n",
    "        row=\"tree repr\",\n",
    "        height=2,\n",
    "        facet_kws=dict(\n",
    "            margin_titles=True,\n",
    "        ),\n",
    "        kind=\"line\",\n",
    "        palette=\"muted\",\n",
    "        teeplot_callback=True,\n",
    "        teeplot_outattrs=dict(\n",
    "            model=model,\n",
    "        ),\n",
    "        teeplot_subdir=teeplot_subdir,\n",
    "    )\n",
    "\n",
    "    teed.set(ylim=(0, 3.0))\n",
    "    teed.refline(y=1.0, linestyle=\"--\", color=\"black\")\n",
    "    teed.set_titles(col_template=\"{col_name}\")\n",
    "\n",
    "    saveit()\n"
   ]
  }
 ],
 "metadata": {
  "kernelspec": {
   "display_name": "Python 3",
   "language": "python",
   "name": "python3"
  },
  "language_info": {
   "codemirror_mode": {
    "name": "ipython",
    "version": 3
   },
   "file_extension": ".py",
   "mimetype": "text/x-python",
   "name": "python",
   "nbconvert_exporter": "python",
   "pygments_lexer": "ipython3"
  }
 },
 "nbformat": 4,
 "nbformat_minor": 2
}
